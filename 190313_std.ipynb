{
 "cells": [
  {
   "cell_type": "markdown",
   "metadata": {},
   "source": [
    "# 파일 쓰기\n",
    "\n",
    "- 우리가 나중에 쓸 xlsx, csv 파일의 경우 라이브러리 활용시 편함\n",
    "\n",
    "- 여기서는 기본적인 txt 파일 읽고 쓰는 법을 배울 것 (용량이 큰 데이터의 경우 txt파일로 다운 받아서 읽으면 처리시간이 줄어듦)\n",
    "\n",
    "- 파일 객체 = open(파일 이름, 파일 열기 모드)\n",
    "- 파일 열기 모드: 'r'-일기, 'w'-쓰기, 'a'-추가\n",
    "\n",
    "- 파일에 값을 쓸 때는 write() 함수를 씀, 파라미터는 string"
   ]
  },
  {
   "cell_type": "code",
   "execution_count": null,
   "metadata": {
    "collapsed": true
   },
   "outputs": [],
   "source": []
  },
  {
   "cell_type": "markdown",
   "metadata": {},
   "source": [
    "# 파일 읽기\n",
    "\n",
    "- 1) readline() 함수\n",
    "- txt 파일의 한 줄씩 값을 리턴, 값이 없을 경우 none을 리턴 -> not readlines()하면 True가 리턴\n",
    "\n",
    "- 2) readlines() 함수\n",
    "- txt 파일의 값을 한 줄씩 리스트로 만들어 하나의 리스트를 리턴"
   ]
  },
  {
   "cell_type": "code",
   "execution_count": null,
   "metadata": {
    "collapsed": true
   },
   "outputs": [],
   "source": []
  },
  {
   "cell_type": "markdown",
   "metadata": {},
   "source": [
    "### while 문을 이용해 파일의 모든 줄을 읽어 출력해보자 & readline() 사용"
   ]
  },
  {
   "cell_type": "code",
   "execution_count": null,
   "metadata": {
    "collapsed": true
   },
   "outputs": [],
   "source": []
  },
  {
   "cell_type": "markdown",
   "metadata": {},
   "source": [
    "### for문을 이용해 파일의 모든 줄을 읽어 출력해보자 & readlines() 사용\n",
    "open부터 다시 해야함 (파일 앞에서 닫아놓음)"
   ]
  },
  {
   "cell_type": "code",
   "execution_count": null,
   "metadata": {
    "collapsed": true
   },
   "outputs": [],
   "source": []
  },
  {
   "cell_type": "markdown",
   "metadata": {},
   "source": [
    "## 파일에 내용 추가\n",
    "\n",
    "'a' 모드 사용"
   ]
  },
  {
   "cell_type": "code",
   "execution_count": null,
   "metadata": {
    "collapsed": true
   },
   "outputs": [],
   "source": [
    "f = open('new3.txt', 'a')\n",
    "f.write('I love you')\n",
    "f.close()"
   ]
  },
  {
   "cell_type": "markdown",
   "metadata": {},
   "source": [
    "# 연습문제\n",
    "\n",
    "1~100까지의 숫자가 한줄에 하나씩 순서대로 써진 sample.txt파일을 만든다.\n",
    "sample.txt파일을 읽어서 총합, 평균을 구해서 새로운 파일에 쓴다. 이름은 result.txt로 만들기"
   ]
  },
  {
   "cell_type": "code",
   "execution_count": null,
   "metadata": {
    "collapsed": true
   },
   "outputs": [],
   "source": []
  },
  {
   "cell_type": "markdown",
   "metadata": {},
   "source": [
    "# 함수\n",
    "\n",
    "def 함수명( 파라미터1, 파라미터2, ..., name = 'dasom'): #파라미터 없어도 됨, 파라미터 입력시 값을 아예 넣어줘서 default를 줄 수 있음\n",
    "    \n",
    "    수행문\n",
    "    \n",
    "    return 값 (return 안해도 됨)\n",
    "    \n",
    "함수를 실행시키려면,\n",
    "\n",
    "함수명(파라미터들)\n",
    "\n",
    "이렇게 해서 call을 해주어야 함."
   ]
  },
  {
   "cell_type": "markdown",
   "metadata": {},
   "source": [
    "## 연습문제\n",
    "1단부터 9단 까지 출력하는 함수를 만들어라"
   ]
  },
  {
   "cell_type": "markdown",
   "metadata": {},
   "source": [
    "## 연습문제\n",
    "\n",
    "if문, 반복문을 활용하여 정수 리스트의 최대값을 출력하는 함수를 만들어라. (max함수를 쓰지 않고)\n",
    "\n",
    "lst = [24, 15, 0, 3, -5, 7, -38, 10, 28, 3, 12, 9]"
   ]
  },
  {
   "cell_type": "code",
   "execution_count": null,
   "metadata": {
    "collapsed": true
   },
   "outputs": [],
   "source": []
  },
  {
   "cell_type": "code",
   "execution_count": null,
   "metadata": {
    "collapsed": true
   },
   "outputs": [],
   "source": []
  },
  {
   "cell_type": "code",
   "execution_count": null,
   "metadata": {
    "collapsed": true
   },
   "outputs": [],
   "source": []
  }
 ],
 "metadata": {
  "kernelspec": {
   "display_name": "Python 3",
   "language": "python",
   "name": "python3"
  },
  "language_info": {
   "codemirror_mode": {
    "name": "ipython",
    "version": 3
   },
   "file_extension": ".py",
   "mimetype": "text/x-python",
   "name": "python",
   "nbconvert_exporter": "python",
   "pygments_lexer": "ipython3",
   "version": "3.6.3"
  }
 },
 "nbformat": 4,
 "nbformat_minor": 2
}
